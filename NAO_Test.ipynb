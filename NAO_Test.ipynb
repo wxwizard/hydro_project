{
 "cells": [
  {
   "cell_type": "code",
   "execution_count": 1,
   "id": "a49e07ef",
   "metadata": {},
   "outputs": [],
   "source": [
    "import pandas as pd"
   ]
  },
  {
   "cell_type": "code",
   "execution_count": 3,
   "id": "7fb92ad1",
   "metadata": {},
   "outputs": [
    {
     "data": {
      "text/html": [
       "<div>\n",
       "<style scoped>\n",
       "    .dataframe tbody tr th:only-of-type {\n",
       "        vertical-align: middle;\n",
       "    }\n",
       "\n",
       "    .dataframe tbody tr th {\n",
       "        vertical-align: top;\n",
       "    }\n",
       "\n",
       "    .dataframe thead th {\n",
       "        text-align: right;\n",
       "    }\n",
       "</style>\n",
       "<table border=\"1\" class=\"dataframe\">\n",
       "  <thead>\n",
       "    <tr style=\"text-align: right;\">\n",
       "      <th></th>\n",
       "      <th>1950   0.92   0.40  -0.36   0.73  -0.59  -0.06  -1.26  -0.05   0.25   0.85  -1.26  -1.02</th>\n",
       "    </tr>\n",
       "  </thead>\n",
       "  <tbody>\n",
       "    <tr>\n",
       "      <th>0</th>\n",
       "      <td>1951   0.08   0.70  -1.02  -0.22  -0.59  -1.64...</td>\n",
       "    </tr>\n",
       "    <tr>\n",
       "      <th>1</th>\n",
       "      <td>1952   0.93  -0.83  -1.49   1.01  -1.12  -0.40...</td>\n",
       "    </tr>\n",
       "    <tr>\n",
       "      <th>2</th>\n",
       "      <td>1953   0.33  -0.49  -0.04  -1.67  -0.66   1.09...</td>\n",
       "    </tr>\n",
       "    <tr>\n",
       "      <th>3</th>\n",
       "      <td>1954   0.37   0.74  -0.83   1.34  -0.09  -0.25...</td>\n",
       "    </tr>\n",
       "    <tr>\n",
       "      <th>4</th>\n",
       "      <td>1955  -1.84  -1.12  -0.53  -0.42  -0.34  -1.10...</td>\n",
       "    </tr>\n",
       "    <tr>\n",
       "      <th>...</th>\n",
       "      <td>...</td>\n",
       "    </tr>\n",
       "    <tr>\n",
       "      <th>67</th>\n",
       "      <td>2018   1.44   1.58  -0.93   1.24   2.12   1.09...</td>\n",
       "    </tr>\n",
       "    <tr>\n",
       "      <th>68</th>\n",
       "      <td>2019   0.59   0.29   1.23   0.47  -2.62  -1.09...</td>\n",
       "    </tr>\n",
       "    <tr>\n",
       "      <th>69</th>\n",
       "      <td>2020   1.34   1.26   1.01  -1.02  -0.41  -0.15...</td>\n",
       "    </tr>\n",
       "    <tr>\n",
       "      <th>70</th>\n",
       "      <td>2021  -1.11   0.14   0.73  -1.43  -1.24   0.77...</td>\n",
       "    </tr>\n",
       "    <tr>\n",
       "      <th>71</th>\n",
       "      <td>2022   1.08   1.68   0.77  -0.36   0.71  -0.12...</td>\n",
       "    </tr>\n",
       "  </tbody>\n",
       "</table>\n",
       "<p>72 rows × 1 columns</p>\n",
       "</div>"
      ],
      "text/plain": [
       "   1950   0.92   0.40  -0.36   0.73  -0.59  -0.06  -1.26  -0.05   0.25   0.85  -1.26  -1.02\n",
       "0   1951   0.08   0.70  -1.02  -0.22  -0.59  -1.64...                                      \n",
       "1   1952   0.93  -0.83  -1.49   1.01  -1.12  -0.40...                                      \n",
       "2   1953   0.33  -0.49  -0.04  -1.67  -0.66   1.09...                                      \n",
       "3   1954   0.37   0.74  -0.83   1.34  -0.09  -0.25...                                      \n",
       "4   1955  -1.84  -1.12  -0.53  -0.42  -0.34  -1.10...                                      \n",
       "..                                                ...                                      \n",
       "67  2018   1.44   1.58  -0.93   1.24   2.12   1.09...                                      \n",
       "68  2019   0.59   0.29   1.23   0.47  -2.62  -1.09...                                      \n",
       "69  2020   1.34   1.26   1.01  -1.02  -0.41  -0.15...                                      \n",
       "70  2021  -1.11   0.14   0.73  -1.43  -1.24   0.77...                                      \n",
       "71  2022   1.08   1.68   0.77  -0.36   0.71  -0.12...                                      \n",
       "\n",
       "[72 rows x 1 columns]"
      ]
     },
     "execution_count": 3,
     "metadata": {},
     "output_type": "execute_result"
    }
   ],
   "source": [
    "df = pd.read_csv('https://www.cpc.ncep.noaa.gov/products/precip/CWlink/pna/norm.nao.monthly.b5001.current.ascii.table')\n",
    "df"
   ]
  },
  {
   "cell_type": "code",
   "execution_count": null,
   "id": "543addcb",
   "metadata": {},
   "outputs": [],
   "source": []
  }
 ],
 "metadata": {
  "kernelspec": {
   "display_name": "Python 3 (ipykernel)",
   "language": "python",
   "name": "python3"
  },
  "language_info": {
   "codemirror_mode": {
    "name": "ipython",
    "version": 3
   },
   "file_extension": ".py",
   "mimetype": "text/x-python",
   "name": "python",
   "nbconvert_exporter": "python",
   "pygments_lexer": "ipython3",
   "version": "3.10.6"
  }
 },
 "nbformat": 4,
 "nbformat_minor": 5
}
